{
 "cells": [
  {
   "cell_type": "code",
   "execution_count": 1,
   "metadata": {
    "collapsed": false,
    "deletable": true,
    "editable": true
   },
   "outputs": [],
   "source": [
    "import numpy as np\n",
    "\n",
    "def validate(model, X, Y):\n",
    "    def get_crops(image):\n",
    "        x = image.shape[0] - 227\n",
    "        y = image.shape[1] - 227\n",
    "        cx = int(x/2)\n",
    "        cy = int(y/2)\n",
    "        images = np.zeros((5, 227, 227, 3))\n",
    "        images[0,:,:,:] = image[x:x+227,:227,:]\n",
    "        images[1,:,:,:] = image[x:x+227,y:y+227,:]\n",
    "        images[2,:,:,:] = image[:,y:y+227,:]\n",
    "        images[3,:,:,:] = image[:227,:227,:]\n",
    "        images[4,:,:,:] = image[cx:227+cx,cy:cy+227,:]\n",
    "        return images\n",
    "\n",
    "    good1 = 0\n",
    "    good5 = 0\n",
    "    for i in range(len(X)):\n",
    "        x = X[i]\n",
    "        y = Y[i]\n",
    "        img = get_crops(x)\n",
    "        scores = model.predict(img)\n",
    "        scores = np.sum(scores, axis=0)\n",
    "        label = np.argmax(y)\n",
    "        if label in scores.argsort()[-1:][::-1]:\n",
    "            good1 += 1\n",
    "        if label in scores.argsort()[-5:][::-1]:\n",
    "            good5 += 1\n",
    "    return (good1/len(X), good5/len(X))"
   ]
  },
  {
   "cell_type": "code",
   "execution_count": 2,
   "metadata": {
    "collapsed": false,
    "deletable": true,
    "editable": true,
    "scrolled": false
   },
   "outputs": [
    {
     "name": "stdout",
     "output_type": "stream",
     "text": [
      "Training Step: 999  | total loss: \u001b[1m\u001b[32m0.30323\u001b[0m\u001b[0m | time: 16.451s\n",
      "| Adam | epoch: 050 | loss: 0.30323 - acc: 0.9090 -- iter: 1216/1224\n",
      "Training Step: 1000  | total loss: \u001b[1m\u001b[32m0.32860\u001b[0m\u001b[0m | time: 16.662s\n",
      "| Adam | epoch: 050 | loss: 0.32860 - acc: 0.9009 -- iter: 1224/1224\n",
      "--\n"
     ]
    }
   ],
   "source": [
    "from __future__ import division, print_function, absolute_import\n",
    "\n",
    "import tflearn\n",
    "import tensorflow as tf\n",
    "from tflearn.layers.core import input_data, dropout, fully_connected\n",
    "from tflearn.layers.conv import conv_2d, max_pool_2d\n",
    "from tflearn.layers.estimator import regression\n",
    "from tflearn.data_augmentation import ImageAugmentation\n",
    "from tflearn.layers.normalization import batch_normalization\n",
    "from tflearn.activations import softmax\n",
    "from tflearn.optimizers import Adam\n",
    "\n",
    "from sklearn.model_selection import train_test_split\n",
    "import tflearn.datasets.oxflower17 as oxflower17\n",
    "X, Y = oxflower17.load_data(one_hot=True, resize_pics=(256, 256))\n",
    "\n",
    "trainX, testX, trainY, testY = train_test_split(X, Y, test_size=0.1, random_state=42)\n",
    "\n",
    "\n",
    "def conv(network, filters, kernel, strides, activation):\n",
    "    network = batch_normalization(network)\n",
    "    network = conv_2d(network, filters, kernel, strides=strides, activation=activation, binarize=binarize)\n",
    "    return network\n",
    "\n",
    "def fc(network, n_units, activation):\n",
    "    network = batch_normalization(network)\n",
    "    network = fully_connected(network, n_units, activation=activation, binarize=binarize)\n",
    "    return network\n",
    "\n",
    "inc = lambda x: x\n",
    "\n",
    "# Choose model binarization type\n",
    "binarize=None\n",
    "\n",
    "# set model name\n",
    "name = 'alexnet-flower17'\n",
    "\n",
    "# Accuracy array\n",
    "acc = []\n",
    "\n",
    "# Real-time data preprocessing\n",
    "img_prep = tflearn.ImagePreprocessing()\n",
    "img_prep.add_featurewise_zero_center(per_channel=True)\n",
    "\n",
    "# Real-time data augmentation\n",
    "img_aug = tflearn.ImageAugmentation()\n",
    "img_aug.add_random_flip_leftright()\n",
    "img_aug.add_random_crop([227, 227], padding=0)\n",
    "\n",
    "# Building 'AlexNet'\n",
    "network = input_data(shape=[None, 227, 227, 3],\n",
    "                     data_preprocessing=img_prep,\n",
    "                     data_augmentation=img_aug)\n",
    "network = conv(network, inc(96), 11, 4, 'relu')\n",
    "network = max_pool_2d(network, 3, strides=2)\n",
    "network = conv(network, inc(256), 5, 1, 'relu')\n",
    "network = max_pool_2d(network, 3, strides=2)\n",
    "network = conv(network, inc(384), 3, 1, 'relu')\n",
    "network = conv(network, inc(384), 3, 1, 'relu')\n",
    "network = conv(network, inc(256), 3, 1, 'relu')\n",
    "network = max_pool_2d(network, 3, strides=2)\n",
    "network = fc(network, 4096, 'tanh')\n",
    "network = dropout(network, 0.5)\n",
    "network = fc(network, 4096, 'tanh')\n",
    "network = dropout(network, 0.5)\n",
    "network = fc(network, 17, None)\n",
    "network = softmax(network)\n",
    "\n",
    "if binarize is None or binarize == 'weights':\n",
    "    network = regression(network, optimizer='adam', loss='categorical_crossentropy', learning_rate=0.001)\n",
    "\n",
    "if binarize == 'full':\n",
    "    adam = Adam(0.0001, 0.9, 0.99)\n",
    "    network = regression(network, optimizer=adam, loss='categorical_crossentropy', learning_rate=0.0001)\n",
    "\n",
    "acc = []\n",
    "model = tflearn.DNN(network, tensorboard_verbose=0)\n",
    "for i in range(50):\n",
    "    model.fit(trainX, trainY, n_epoch=1, shuffle=True, show_metric=True, batch_size=64, \n",
    "              run_id=name)\n",
    "    acc.append(validate(model, testX, testY))"
   ]
  },
  {
   "cell_type": "code",
   "execution_count": 4,
   "metadata": {
    "collapsed": false,
    "deletable": true,
    "editable": true
   },
   "outputs": [
    {
     "data": {
      "text/plain": [
       "(0.7647058823529411, 0.9852941176470589)"
      ]
     },
     "execution_count": 4,
     "metadata": {},
     "output_type": "execute_result"
    }
   ],
   "source": [
    "max(acc)"
   ]
  },
  {
   "cell_type": "code",
   "execution_count": null,
   "metadata": {
    "collapsed": false,
    "deletable": true,
    "editable": true
   },
   "outputs": [],
   "source": []
  },
  {
   "cell_type": "code",
   "execution_count": null,
   "metadata": {
    "collapsed": true,
    "deletable": true,
    "editable": true
   },
   "outputs": [],
   "source": []
  }
 ],
 "metadata": {
  "kernelspec": {
   "display_name": "Python 3",
   "language": "python",
   "name": "python3"
  },
  "language_info": {
   "codemirror_mode": {
    "name": "ipython",
    "version": 3
   },
   "file_extension": ".py",
   "mimetype": "text/x-python",
   "name": "python",
   "nbconvert_exporter": "python",
   "pygments_lexer": "ipython3",
   "version": "3.5.2"
  }
 },
 "nbformat": 4,
 "nbformat_minor": 2
}
