{
 "cells": [
  {
   "cell_type": "code",
   "execution_count": 1,
   "metadata": {
    "collapsed": false,
    "deletable": true,
    "editable": true,
    "scrolled": true
   },
   "outputs": [
    {
     "name": "stdout",
     "output_type": "stream",
     "text": [
      "Training Step: 2199  | total loss: \u001b[1m\u001b[32m0.21897\u001b[0m\u001b[0m | time: 42.008s\n",
      "| Adam | epoch: 002 | loss: 0.21897 - acc: 0.9360 -- iter: 54950/55000\n",
      "Training Step: 2200  | total loss: \u001b[1m\u001b[32m0.21378\u001b[0m\u001b[0m | time: 44.192s\n",
      "| Adam | epoch: 002 | loss: 0.21378 - acc: 0.9364 | val_loss: 0.20033 - val_acc: 0.9416 -- iter: 55000/55000\n",
      "--\n"
     ]
    }
   ],
   "source": [
    "\"\"\" Convolutional Neural Network for MNIST dataset classification task.\n",
    "References:\n",
    "    Y. LeCun, L. Bottou, Y. Bengio, and P. Haffner. \"Gradient-based\n",
    "    learning applied to document recognition.\" Proceedings of the IEEE,\n",
    "    86(11):2278-2324, November 1998.\n",
    "Links:\n",
    "    [MNIST Dataset] http://yann.lecun.com/exdb/mnist/\n",
    "Source:\n",
    "    https://github.com/tflearn/tflearn/blob/master/examples/images/convnet_mnist.py\n",
    "\"\"\"\n",
    "\n",
    "from __future__ import division, print_function, absolute_import\n",
    "\n",
    "import tflearn\n",
    "import tensorflow as tf\n",
    "from tflearn.layers.core import input_data, dropout, fully_connected, flatten\n",
    "from tflearn.layers.conv import conv_2d, max_pool_2d\n",
    "from tflearn.layers.normalization import local_response_normalization\n",
    "from tflearn.layers.estimator import regression\n",
    "from tflearn.activations import relu, softmax\n",
    "from tflearn.layers.normalization import batch_normalization\n",
    "\n",
    "# Data loading and preprocessing\n",
    "import tflearn.datasets.mnist as mnist\n",
    "X, Y, testX, testY = mnist.load_data(one_hot=True)\n",
    "X = X.reshape([-1, 28, 28, 1])\n",
    "testX = testX.reshape([-1, 28, 28, 1])\n",
    "\n",
    "# Choose binarization method\n",
    "binarize = 'full'\n",
    "name = 'LeNet-full'\n",
    "\n",
    "def conv(network, filters, kernel, strides, activation):\n",
    "    network = batch_normalization(network)\n",
    "    network = conv_2d(network, filters, kernel, strides=strides, activation=activation, binarize=binarize)\n",
    "    return network\n",
    "\n",
    "def fc(network, n_units, activation):\n",
    "    network = batch_normalization(network)\n",
    "    network = fully_connected(network, n_units, activation=activation, binarize=binarize)\n",
    "    return network\n",
    "    \n",
    "# Building convolutional network\n",
    "network = input_data(shape=[None, 28, 28, 1], name='input')\n",
    "network = conv(network, 32, 3, 1, 'relu')\n",
    "network = max_pool_2d(network, 2)\n",
    "network = conv(network, 64, 3, 1, 'relu')\n",
    "network = max_pool_2d(network, 2)\n",
    "network = fc(network, 1024, 'tanh')\n",
    "network = dropout(network, 0.5)\n",
    "network = fc(network, 10, None)\n",
    "network = softmax(network)\n",
    "network = regression(network, optimizer='adam', learning_rate=0.001,\n",
    "                     loss='categorical_crossentropy', name='target')\n",
    "\n",
    "# Training\n",
    "model = tflearn.DNN(network, tensorboard_verbose=0)\n",
    "model.fit({'input': X}, {'target': Y}, n_epoch=2, validation_set=({'input': testX}, {'target': testY}),\n",
    "           show_metric=True, run_id=name, batch_size=50)"
   ]
  },
  {
   "cell_type": "code",
   "execution_count": null,
   "metadata": {
    "collapsed": false,
    "deletable": true,
    "editable": true
   },
   "outputs": [],
   "source": []
  },
  {
   "cell_type": "code",
   "execution_count": null,
   "metadata": {
    "collapsed": false,
    "deletable": true,
    "editable": true
   },
   "outputs": [],
   "source": []
  },
  {
   "cell_type": "code",
   "execution_count": null,
   "metadata": {
    "collapsed": true,
    "deletable": true,
    "editable": true
   },
   "outputs": [],
   "source": []
  }
 ],
 "metadata": {
  "kernelspec": {
   "display_name": "Python 3",
   "language": "python",
   "name": "python3"
  },
  "language_info": {
   "codemirror_mode": {
    "name": "ipython",
    "version": 3
   },
   "file_extension": ".py",
   "mimetype": "text/x-python",
   "name": "python",
   "nbconvert_exporter": "python",
   "pygments_lexer": "ipython3",
   "version": "3.5.2"
  }
 },
 "nbformat": 4,
 "nbformat_minor": 2
}
